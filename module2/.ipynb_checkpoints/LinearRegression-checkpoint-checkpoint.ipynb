{
 "cells": [
  {
   "cell_type": "code",
   "execution_count": 1,
   "metadata": {},
   "outputs": [],
   "source": [
    "# -*- coding: utf-8 -*-\n",
    "\"\"\"\n",
    "CellStrat\n",
    "\"\"\"\n",
    "\n",
    "#==============================================================================\n",
    "# Import libraries\n",
    "#==============================================================================\n",
    "import numpy as np\n",
    "import matplotlib.pyplot as plt\n",
    "import pandas as pd\n",
    "import sklearn\n",
    "\n",
    "#==============================================================================\n",
    "# import the dataset of flat prices\n",
    "#==============================================================================\n",
    "\n",
    "flatdata = pd.read_csv ('Price.csv')\n",
    "X = flatdata.iloc [:,:-1].values\n",
    "y = flatdata.iloc [:,1].values"
   ]
  },
  {
   "cell_type": "code",
   "execution_count": 3,
   "metadata": {},
   "outputs": [],
   "source": [
    "#==============================================================================\n",
    "# split the dataset into training and test set. We will use 1/3 approach\n",
    "#==============================================================================\n",
    "\n",
    "from sklearn.model_selection import train_test_split\n",
    "X_train, X_test, y_train, y_test = train_test_split (X, y, test_size = 1/3, \n",
    "                                                     random_state = 0)\n",
    "\n"
   ]
  },
  {
   "cell_type": "code",
   "execution_count": 4,
   "metadata": {},
   "outputs": [
    {
     "data": {
      "text/plain": [
       "LinearRegression(copy_X=True, fit_intercept=True, n_jobs=None,\n",
       "         normalize=False)"
      ]
     },
     "execution_count": 4,
     "metadata": {},
     "output_type": "execute_result"
    }
   ],
   "source": [
    "#==============================================================================\n",
    "# Fitting the Linear Regression algo to the Training set\n",
    "#==============================================================================\n",
    "\n",
    "from sklearn.linear_model import LinearRegression\n",
    "regressoragent = LinearRegression()\n",
    "regressoragent.fit (X_train, y_train )            "
   ]
  },
  {
   "cell_type": "code",
   "execution_count": 5,
   "metadata": {},
   "outputs": [
    {
     "name": "stdout",
     "output_type": "stream",
     "text": [
      "[ 4364.07523511 -5135.92476489  -583.60501567  -239.34169279\n",
      "  6383.19749216    57.24137931 -2631.69278997  1397.68025078\n",
      "  5287.02194357  -146.5830721   1682.78996865 -1216.80250784\n",
      "   660.65830721  2660.2507837 ]\n"
     ]
    },
    {
     "data": {
      "image/png": "[encoded data removed]",
      "text/plain": [
       "<Figure size 432x288 with 1 Axes>"
      ]
     },
     "metadata": {
      "needs_background": "light"
     },
     "output_type": "display_data"
    },
    {
     "data": {
      "image/png": "[encoded data removed]",
      "text/plain": [
       "<Figure size 432x288 with 1 Axes>"
      ]
     },
     "metadata": {
      "needs_background": "light"
     },
     "output_type": "display_data"
    }
   ],
   "source": [
    "#==============================================================================\n",
    "# Now check what our model learned by predicting the X_test values\n",
    "#==============================================================================\n",
    "\n",
    "predictValues = regressoragent.predict(X_test)\n",
    "\n",
    "print(y_test - predictValues)\n",
    "\n",
    "#==============================================================================\n",
    "# So now let us visualize the Training set\n",
    "#==============================================================================\n",
    "plt.scatter(X_train, y_train, color = 'green')\n",
    "plt.plot (X_train, regressoragent.predict (X_train), color = 'red')\n",
    "plt.title ('compare Training result - Area/Price')\n",
    "plt.xlabel('Area of Flat')\n",
    "plt.ylabel('Price')\n",
    "plt.show()\n",
    "\n",
    "#==============================================================================\n",
    "# So now let us visualize the Test set\n",
    "#==============================================================================\n",
    "plt.scatter(X_test, y_test, color = 'green')\n",
    "plt.plot (X_train, regressoragent.predict (X_train), color = 'red')\n",
    "plt.title ('compare Test result - Area/Price')\n",
    "plt.xlabel('Area of Flat')\n",
    "plt.ylabel('Price')\n",
    "plt.show()"
   ]
  },
  {
   "cell_type": "code",
   "execution_count": 8,
   "metadata": {
    "collapsed": true
   },
   "outputs": [
    {
     "ename": "SyntaxError",
     "evalue": "invalid syntax (<ipython-input-8-845e479a45c6>, line 1)",
     "output_type": "error",
     "traceback": [
      "\u001b[1;36m  File \u001b[1;32m\"<ipython-input-8-845e479a45c6>\"\u001b[1;36m, line \u001b[1;32m1\u001b[0m\n\u001b[1;33m    install train_test_split\u001b[0m\n\u001b[1;37m                           ^\u001b[0m\n\u001b[1;31mSyntaxError\u001b[0m\u001b[1;31m:\u001b[0m invalid syntax\n"
     ]
    }
   ],
   "source": []
  },
  {
   "cell_type": "code",
   "execution_count": null,
   "metadata": {
    "collapsed": true
   },
   "outputs": [],
   "source": []
  }
 ],
 "metadata": {
  "kernelspec": {
   "display_name": "Python 3",
   "language": "python",
   "name": "python3"
  },
  "language_info": {
   "codemirror_mode": {
    "name": "ipython",
    "version": 3
   },
   "file_extension": ".py",
   "mimetype": "text/x-python",
   "name": "python",
   "nbconvert_exporter": "python",
   "pygments_lexer": "ipython3",
   "version": "3.7.1"
  }
 },
 "nbformat": 4,
 "nbformat_minor": 2
}
