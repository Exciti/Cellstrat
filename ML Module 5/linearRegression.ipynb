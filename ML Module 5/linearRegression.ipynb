{
 "cells": [
  {
   "cell_type": "markdown",
   "metadata": {},
   "source": [
    "# Linear Regression"
   ]
  },
  {
   "cell_type": "markdown",
   "metadata": {},
   "source": [
    "### Create X and Y data"
   ]
  },
  {
   "cell_type": "code",
   "execution_count": 1,
   "metadata": {},
   "outputs": [
    {
     "name": "stdout",
     "output_type": "stream",
     "text": [
      "100\n",
      "x =  [[425.42488571]\n",
      " [320.00695759]\n",
      " [ 80.65977877]\n",
      " [376.57418695]\n",
      " [363.99673009]\n",
      " [216.15518702]\n",
      " [356.04318377]\n",
      " [184.84979611]\n",
      " [448.54312779]\n",
      " [354.17668811]\n",
      " [382.84566148]\n",
      " [ 49.98439187]\n",
      " [470.03087886]\n",
      " [403.97958754]\n",
      " [486.4718513 ]\n",
      " [250.22599047]\n",
      " [229.61965903]\n",
      " [441.15967091]\n",
      " [452.17850212]\n",
      " [282.24778375]\n",
      " [333.33802257]\n",
      " [350.39140376]\n",
      " [178.89118758]\n",
      " [147.19217002]\n",
      " [244.57860043]\n",
      " [140.8531735 ]\n",
      " [437.78719886]\n",
      " [ 11.2238997 ]\n",
      " [ 10.79472557]\n",
      " [437.37512119]\n",
      " [368.32982678]\n",
      " [ 15.2445458 ]\n",
      " [406.0681034 ]\n",
      " [166.04357892]\n",
      " [387.84172709]\n",
      " [113.96179992]\n",
      " [ 12.06190086]\n",
      " [356.80049029]\n",
      " [137.77104314]\n",
      " [ 85.0660007 ]\n",
      " [ 35.3975193 ]\n",
      " [430.81032075]\n",
      " [308.45789358]\n",
      " [182.53824467]\n",
      " [398.78954732]\n",
      " [356.23332342]\n",
      " [ 91.88829183]\n",
      " [  7.9199434 ]\n",
      " [ 76.0860251 ]\n",
      " [260.03219506]\n",
      " [473.23449956]\n",
      " [ 77.18579817]\n",
      " [276.66695702]\n",
      " [ 94.4083423 ]\n",
      " [ 99.0827592 ]\n",
      " [320.18015793]\n",
      " [ 90.07083435]\n",
      " [315.24337307]\n",
      " [141.59597361]\n",
      " [162.3841848 ]\n",
      " [214.37893991]\n",
      " [317.64164952]\n",
      " [186.35045664]\n",
      " [214.65452589]\n",
      " [304.61324997]\n",
      " [ 91.3148952 ]\n",
      " [ 78.9487341 ]\n",
      " [362.38162722]\n",
      " [138.57044985]\n",
      " [481.72601134]\n",
      " [381.27477727]\n",
      " [ 33.28006748]\n",
      " [ 85.68758548]\n",
      " [424.47138566]\n",
      " [186.62667077]\n",
      " [  6.11031193]\n",
      " [ 78.76670516]\n",
      " [431.9862304 ]\n",
      " [216.88064268]\n",
      " [346.16461992]\n",
      " [ 84.40054084]\n",
      " [224.42851226]\n",
      " [143.5186345 ]\n",
      " [ 25.02358458]\n",
      " [136.99074314]\n",
      " [449.41365923]\n",
      " [  8.70224977]\n",
      " [240.72759083]\n",
      " [326.31131959]\n",
      " [158.03197785]\n",
      " [369.20979132]\n",
      " [318.44731254]\n",
      " [499.7377319 ]\n",
      " [247.24829706]\n",
      " [180.0940128 ]\n",
      " [368.46631396]\n",
      " [488.87020174]\n",
      " [ 89.80506187]\n",
      " [239.08298051]\n",
      " [  3.64329845]]\n",
      "100\n",
      "y =  [[2130.54886108]\n",
      " [1602.81148213]\n",
      " [ 406.28040168]\n",
      " [1885.56487041]\n",
      " [1822.3740717 ]\n",
      " [1083.42656657]\n",
      " [1783.29635667]\n",
      " [ 926.91305805]\n",
      " [2245.89480786]\n",
      " [1774.10838475]\n",
      " [1916.75458638]\n",
      " [ 253.14641511]\n",
      " [2352.6173568 ]\n",
      " [2022.66968064]\n",
      " [2435.1075804 ]\n",
      " [1254.29478316]\n",
      " [1151.4120835 ]\n",
      " [2209.05494681]\n",
      " [2263.82816962]\n",
      " [1414.43250927]\n",
      " [1669.69206966]\n",
      " [1754.84416374]\n",
      " [ 897.01753179]\n",
      " [ 738.72673987]\n",
      " [1225.74609593]\n",
      " [ 707.51355143]\n",
      " [2191.75265554]\n",
      " [  58.78949717]\n",
      " [  56.93140049]\n",
      " [2190.05067049]\n",
      " [1844.66187498]\n",
      " [  78.91983234]\n",
      " [2033.07628303]\n",
      " [ 833.4202161 ]\n",
      " [1941.6319793 ]\n",
      " [ 573.39070886]\n",
      " [  63.7089553 ]\n",
      " [1786.69205748]\n",
      " [ 692.4862649 ]\n",
      " [ 429.37193835]\n",
      " [ 180.03688035]\n",
      " [2156.42552727]\n",
      " [1545.12204523]\n",
      " [ 915.69416695]\n",
      " [1996.29179827]\n",
      " [1784.49046154]\n",
      " [ 461.77407723]\n",
      " [  42.9809659 ]\n",
      " [ 383.5289025 ]\n",
      " [1303.27950347]\n",
      " [2369.08062541]\n",
      " [ 388.80378583]\n",
      " [1386.31625342]\n",
      " [ 475.05576579]\n",
      " [ 497.97040216]\n",
      " [1604.16818004]\n",
      " [ 453.09724661]\n",
      " [1579.02623524]\n",
      " [ 710.76472319]\n",
      " [ 814.85857683]\n",
      " [1074.44448437]\n",
      " [1591.39205773]\n",
      " [ 934.54930471]\n",
      " [1076.28192438]\n",
      " [1526.00215143]\n",
      " [ 459.53066084]\n",
      " [ 397.58338611]\n",
      " [1815.19883351]\n",
      " [ 695.9560573 ]\n",
      " [2411.74413685]\n",
      " [1909.44561855]\n",
      " [ 169.68230729]\n",
      " [ 431.36754404]\n",
      " [2124.98252173]\n",
      " [ 936.35516356]\n",
      " [  33.68454879]\n",
      " [ 396.49720817]\n",
      " [2163.17246934]\n",
      " [1087.87702167]\n",
      " [1733.58053719]\n",
      " [ 425.08628213]\n",
      " [1124.661389  ]\n",
      " [ 720.27709237]\n",
      " [ 128.29459973]\n",
      " [ 688.4893275 ]\n",
      " [2249.81829681]\n",
      " [  46.29906363]\n",
      " [1206.73831092]\n",
      " [1634.63175756]\n",
      " [ 792.98602363]\n",
      " [1849.37244675]\n",
      " [1595.74526189]\n",
      " [2501.62602527]\n",
      " [1239.22580639]\n",
      " [ 903.2626026 ]\n",
      " [1844.91248228]\n",
      " [2447.38810778]\n",
      " [ 452.01004773]\n",
      " [1197.81998187]\n",
      " [  21.55617666]]\n"
     ]
    }
   ],
   "source": [
    "import numpy as np\n",
    "\n",
    "def create_y(x):\n",
    "    res = x*5 + 3 + np.random.randn(len(x)).reshape((len(x),1))*0.3\n",
    "    # API hint : check https://docs.scipy.org/doc/numpy/reference/generated/numpy.random.randn.html\n",
    "    \n",
    "    return res\n",
    "\n",
    "x = np.random.uniform(1,500,100) #create 100 random numbers between 1 and 500\n",
    "x=x.reshape(len(x),1)\n",
    "print(np.size(x))\n",
    "print (\"x = \", x)\n",
    "y = create_y(x)\n",
    "print(np.size(y))\n",
    "print(\"y = \", y)\n"
   ]
  },
  {
   "cell_type": "markdown",
   "metadata": {},
   "source": [
    "### Run the training & test steps"
   ]
  },
  {
   "cell_type": "code",
   "execution_count": 2,
   "metadata": {},
   "outputs": [
    {
     "name": "stdout",
     "output_type": "stream",
     "text": [
      " y = [4.99960859] * x + [3.05425466]\n"
     ]
    }
   ],
   "source": [
    "import numpy as np\n",
    "from sklearn import linear_model\n",
    "\n",
    "linReg = linear_model.LinearRegression()\n",
    "\n",
    "\n",
    "#first 90 numbers are taken for training step. Last 10 numbers for test step.\n",
    "X_train = np.array(x[:-10])\n",
    "Y_train = np.array(y[:-10])\n",
    "\n",
    "X_test = x[-10:]\n",
    "Y_test = y[-10:]\n",
    "\n",
    "# feed the linear regression with the train data to obtain a model.\n",
    "linReg.fit(X_train, Y_train)\n",
    "m = linReg.coef_[0]\n",
    "b = linReg.intercept_\n",
    "print(' y = {0} * x + {1}'.format(m, b))"
   ]
  },
  {
   "cell_type": "markdown",
   "metadata": {},
   "source": [
    "### Plot the curve"
   ]
  },
  {
   "cell_type": "code",
   "execution_count": 3,
   "metadata": {},
   "outputs": [
    {
     "data": {
      "image/png": "[encoded data removed]",
      "text/plain": [
       "<matplotlib.figure.Figure at 0x62b3b62940>"
      ]
     },
     "metadata": {},
     "output_type": "display_data"
    }
   ],
   "source": [
    "import matplotlib.pyplot as plt\n",
    "import numpy as np\n",
    "\n",
    "plt.scatter(x,y,color='k')\n",
    "min_x= np.min(x)\n",
    "max_x= np.max(x)\n",
    "plt.plot([min_x, max_x], [b, m*max_x + b], 'r')\n",
    "\n",
    "plt.title('Linear Regression')\n",
    "plt.xlabel('x')\n",
    "plt.ylabel('y')\n",
    "plt.show()"
   ]
  },
  {
   "cell_type": "markdown",
   "metadata": {},
   "source": [
    "### Print variance score"
   ]
  },
  {
   "cell_type": "code",
   "execution_count": 6,
   "metadata": {},
   "outputs": [
    {
     "name": "stdout",
     "output_type": "stream",
     "text": [
      "MSE: 0.11\n",
      "Variance score: 1.00\n"
     ]
    }
   ],
   "source": [
    "print(\"MSE: %.2f\" % np.mean((linReg.predict(X_test) - Y_test) ** 2))\n",
    "# Explained variance score: 1 is perfect prediction\n",
    "print('Variance score: %.2f' % linReg.score(X_test, Y_test))"
   ]
  },
  {
   "cell_type": "code",
   "execution_count": null,
   "metadata": {
    "collapsed": true
   },
   "outputs": [],
   "source": []
  }
 ],
 "metadata": {
  "kernelspec": {
   "display_name": "Python 3",
   "language": "python",
   "name": "python3"
  },
  "language_info": {
   "codemirror_mode": {
    "name": "ipython",
    "version": 3
   },
   "file_extension": ".py",
   "mimetype": "text/x-python",
   "name": "python",
   "nbconvert_exporter": "python",
   "pygments_lexer": "ipython3",
   "version": "3.5.2"
  }
 },
 "nbformat": 4,
 "nbformat_minor": 2
}
