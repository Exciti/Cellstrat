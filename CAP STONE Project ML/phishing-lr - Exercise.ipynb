{
 "cells": [
  {
   "cell_type": "markdown",
   "metadata": {},
   "source": [
    "## Logistic Regression (Phishing Dataset)"
   ]
  },
  {
   "cell_type": "code",
   "execution_count": 1,
   "metadata": {
    "collapsed": true
   },
   "outputs": [],
   "source": [
    "#CellStrat - Load the phishing website dataset (this dataset has 11000+ data samples). Each sample has 30 website\n",
    "#parameters and then a class label identifying it as a phishing website or not (1 or -1).\n",
    "\n",
    "#The task is to train a Logistic Regression classifier which can detect phishing websites.\n",
    "\n",
    "#Use 70% data for training and 30% for testing.\n",
    "\n",
    "#Train the model using training data and then use it to predict the test data.\n",
    "\n",
    "#Then print the count of misclassified samples in the test data prediction as well as the accuracy score of this prediction.\n",
    "\n",
    "#Then train with only two input parameters. e.g. parameter index 5 (parameter Prefix_Suffix) and 13 (URL_of_Anchor) only out of\n",
    "#30 parameters. Check accuracy on the test data again and compare the accuracy with the previous value, where it was\n",
    "#trained on all the parameters.\n",
    "\n",
    "#Plot the test samples along with the decision boundary when trained with index 5 and index 13 parameters."
   ]
  },
  {
   "cell_type": "markdown",
   "metadata": {},
   "source": [
    "### Import modules"
   ]
  },
  {
   "cell_type": "code",
   "execution_count": 2,
   "metadata": {
    "collapsed": true
   },
   "outputs": [],
   "source": [
    "from sklearn import datasets\n",
    "import numpy as np\n",
    "from sklearn.model_selection import train_test_split\n",
    "from sklearn.preprocessing import StandardScaler\n",
    "from sklearn.linear_model import LogisticRegression\n",
    "from sklearn.metrics import accuracy_score\n",
    "from matplotlib.colors import ListedColormap\n",
    "import matplotlib.pyplot as plt"
   ]
  },
  {
   "cell_type": "markdown",
   "metadata": {},
   "source": [
    "### Define Input and Output"
   ]
  },
  {
   "cell_type": "code",
   "execution_count": 3,
   "metadata": {
    "collapsed": true
   },
   "outputs": [],
   "source": [
    "phishing = np.loadtxt('./data/phishing.txt', delimiter=',')\n",
    "\n",
    "#attribute having_IP_Address  { -1,1 }\n",
    "#attribute URL_Length   { 1,0,-1 }\n",
    "#attribute Shortining_Service { 1,-1 }\n",
    "#attribute having_At_Symbol   { 1,-1 }\n",
    "#attribute double_slash_redirecting { -1,1 }\n",
    "#attribute Prefix_Suffix  { -1,1 }\n",
    "#attribute having_Sub_Domain  { -1,0,1 }\n",
    "#attribute SSLfinal_State  { -1,1,0 }\n",
    "#attribute Domain_registeration_length { -1,1 }\n",
    "#attribute Favicon { 1,-1 }\n",
    "#attribute port { 1,-1 }\n",
    "#attribute HTTPS_token { -1,1 }\n",
    "#attribute Request_URL  { 1,-1 }\n",
    "#attribute URL_of_Anchor { -1,0,1 }\n",
    "#attribute Links_in_tags { 1,-1,0 }\n",
    "#attribute SFH  { -1,1,0 }\n",
    "#attribute Submitting_to_email { -1,1 }\n",
    "#attribute Abnormal_URL { -1,1 }\n",
    "#attribute Redirect  { 0,1 }\n",
    "#attribute on_mouseover  { 1,-1 }\n",
    "#attribute RightClick  { 1,-1 }\n",
    "#attribute popUpWidnow  { 1,-1 }\n",
    "#attribute Iframe { 1,-1 }\n",
    "#attribute age_of_domain  { -1,1 }\n",
    "#attribute DNSRecord   { -1,1 }\n",
    "#attribute web_traffic  { -1,0,1 }\n",
    "#attribute Page_Rank { -1,1 }\n",
    "#attribute Google_Index { 1,-1 }\n",
    "#attribute Links_pointing_to_page { 1,0,-1 }\n",
    "#attribute Statistical_report { -1,1 }\n",
    "#attribute Result  { -1,1 }"
   ]
  },
  {
   "cell_type": "code",
   "execution_count": null,
   "metadata": {
    "collapsed": true
   },
   "outputs": [],
   "source": [
    "#create solution here"
   ]
  }
 ],
 "metadata": {
  "kernelspec": {
   "display_name": "Python 3",
   "language": "python",
   "name": "python3"
  },
  "language_info": {
   "codemirror_mode": {
    "name": "ipython",
    "version": 3
   },
   "file_extension": ".py",
   "mimetype": "text/x-python",
   "name": "python",
   "nbconvert_exporter": "python",
   "pygments_lexer": "ipython3",
   "version": "3.5.2"
  }
 },
 "nbformat": 4,
 "nbformat_minor": 2
}
